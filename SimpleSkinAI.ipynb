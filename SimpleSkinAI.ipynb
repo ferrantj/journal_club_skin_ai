{
 "cells": [
  {
   "cell_type": "markdown",
   "id": "94c45195",
   "metadata": {},
   "source": [
    "# Skin AI\n",
    "This notebook is a very simple example of training a skin ai to distinguish lesions. In this example we are distinguishing vascular lesions from melanocytic nevi. To run a block of code simply click into the box and press 'Shift'+'Enter'. The box below imports libraries we need to run the rest."
   ]
  },
  {
   "cell_type": "code",
   "execution_count": null,
   "id": "5998ccd8",
   "metadata": {},
   "outputs": [],
   "source": [
    "import glob\n",
    "import os\n",
    "import shutil\n",
    "import random\n",
    "from IPython.display import display, clear_output, Markdown\n",
    "\n",
    "import cv2\n",
    "import numpy as np\n",
    "import pandas as pd\n",
    "import torch\n",
    "import torchvision\n",
    "from matplotlib import pyplot as plt\n",
    "from PIL import Image\n",
    "from sklearn.linear_model import LogisticRegression\n",
    "from sklearn.svm import SVC\n",
    "from torch import nn\n",
    "from torchvision import transforms\n",
    "\n",
    "from isic_utils import download_isic_images"
   ]
  },
  {
   "cell_type": "markdown",
   "id": "20a434a1",
   "metadata": {},
   "source": [
    "# Download Data From ISIC\n",
    "ISIC is a public dataset of skin lesions. We are downloading a small subset of vascular lesions and nevi."
   ]
  },
  {
   "cell_type": "code",
   "execution_count": null,
   "id": "8ef00dbc",
   "metadata": {
    "scrolled": false
   },
   "outputs": [],
   "source": [
    "if os.path.exists('./train_images'): shutil.rmtree('./train_images') \n",
    "if os.path.exists('./test_images'): shutil.rmtree('./test_images')\n",
    "\n",
    "os.mkdir('./train_images')\n",
    "os.mkdir('./train_images/nevus')\n",
    "os.mkdir('./train_images/vascular_lesion')\n",
    "os.mkdir('./test_images')\n",
    "os.mkdir('./test_images/nevus')\n",
    "os.mkdir('./test_images/vascular_lesion')\n",
    "\n",
    "print('downloading unlabeled training images')\n",
    "vasc_offset = download_isic_images('./train_images/', limit=25, dx='vascular lesion')\n",
    "nev_offset = download_isic_images('./train_images/', limit=25, dx='nevus')\n",
    "print('downloading vascular lesion test images')\n",
    "vasc_offset = download_isic_images('test_images/vascular_lesion', limit=50, dx='vascular lesion', offset=vasc_offset)\n",
    "print('downloading nevus test images')\n",
    "nev_offset = download_isic_images('./test_images/nevus', limit=50, dx='nevus', offset=nev_offset)\n",
    "print('downloading additional vascular lesion train images')\n",
    "download_isic_images('train_images/vascular_lesion', limit=50, dx='vascular lesion', offset=vasc_offset)\n",
    "print('downloading additional nevus train images')\n",
    "download_isic_images('./train_images/nevus', limit=50, dx='nevus', offset=nev_offset)"
   ]
  },
  {
   "cell_type": "markdown",
   "id": "3e1848e2",
   "metadata": {},
   "source": [
    "# Label Data"
   ]
  },
  {
   "cell_type": "markdown",
   "id": "2a64ead2",
   "metadata": {},
   "source": [
    "## Lets learn the diffrence between vascular lesions and nevi\n",
    "Run the code below, and it will walk through examples of the two types of lesions. The following code outputs the diagnosis, an image and a response box. In the response press 'Enter' to procceed or 'q' then 'Enter' to quit. The code will also end when you have seen all available images. When you think you understand the two types you can proceed to the next step to label some additional examples."
   ]
  },
  {
   "cell_type": "code",
   "execution_count": null,
   "id": "b3cd4bd2",
   "metadata": {},
   "outputs": [],
   "source": [
    "images = list(glob.glob('./train_images/vascular_lesion/*.jpg'))\n",
    "images += list(glob.glob('./train_images/nevus/*.jpg'))\n",
    "temp_df = pd.DataFrame(images, columns=['image_path'])\n",
    "temp_df['label'] = ['vascular_lesion'] * 50 + ['nevus'] * 50\n",
    "temp_df = temp_df.sample(frac=1)\n",
    "for i, row in temp_df.iterrows():\n",
    "    display(Markdown(f'# {row.label}'))\n",
    "    display(Image.open(row.image_path).resize((512, 512)))\n",
    "    resp = input()\n",
    "    clear_output()\n",
    "    if resp in {'q', 'quit', 'exit', 'break'}:\n",
    "        break"
   ]
  },
  {
   "cell_type": "markdown",
   "id": "c75d566b",
   "metadata": {},
   "source": [
    "## Your Turn\n",
    "Label the data below by inputting either a 'v' for vascular lesion or a 'n' for nevus. "
   ]
  },
  {
   "cell_type": "code",
   "execution_count": null,
   "id": "1d261009",
   "metadata": {},
   "outputs": [],
   "source": [
    "images = list(glob.glob('./train_images/*.jpg'))\n",
    "random.shuffle(images)\n",
    "data_df = pd.DataFrame(images, columns=['image_path'])\n",
    "labels = []\n",
    "for i, row in data_df.iterrows():\n",
    "    while True:\n",
    "        display(Image.open(row.image_path).resize((512, 512)))\n",
    "        resp = input()\n",
    "        clear_output()\n",
    "        if resp in {'vascular', 'vascular lesion', 'vasc', 'v'}:\n",
    "            labels.append('vascular_lesion')\n",
    "            break\n",
    "        elif resp in {'nevus', 'nevi', 'nev', 'n'}:\n",
    "            labels.append('nevus')\n",
    "            break\n",
    "        elif resp in {'q', 'quit', 'exit', 'break'}:\n",
    "            break\n",
    "        else:\n",
    "            continue"
   ]
  },
  {
   "cell_type": "markdown",
   "id": "2486fd51",
   "metadata": {},
   "source": [
    "# Turn Data Into Dataframe\n",
    "The code bellow takes the labels you generated plus some additional data to create a more convinient form to handle the data. below also seperates the data into three \"splits.\"\n",
    "- 'train': the data used to train a classifier\n",
    "- 'valid': short for validation, the data used to choose hyperparameters and pick the best model\n",
    "- 'test': data that should not be used for development, and should reflect the real score of using the data"
   ]
  },
  {
   "cell_type": "code",
   "execution_count": null,
   "id": "fbc2edac",
   "metadata": {},
   "outputs": [],
   "source": [
    "data_df = data_df.append(pd.DataFrame(glob.glob('./train_images/vascular_lesion/*.jpg'), columns=['image_path']))\n",
    "data_df = data_df.append(pd.DataFrame(glob.glob('./train_images/nevus/*.jpg'), columns=['image_path']))\n",
    "data_df['label'] = labels + ['vascular_lesion'] * 50 + ['nevus'] * 50\n",
    "data_df['split'] = np.random.choice(['train', 'valid'], size=(len(data_df)))\n",
    "\n",
    "test_images = list(glob.glob('./test_images/vascular_lesion/*.jpg'))\n",
    "test_images += list(glob.glob('./test_images/nevus/*.jpg'))\n",
    "test_df = pd.DataFrame(test_images, columns=['image_path'])\n",
    "test_df['label'] = ['vascular_lesion'] * 50 + ['nevus'] * 50\n",
    "test_df['split'] = ['test'] * 100\n",
    "data_df = data_df.append(test_df)"
   ]
  },
  {
   "cell_type": "markdown",
   "id": "721cda4d",
   "metadata": {},
   "source": [
    "# Create Handcrafted Feature Vectors\n",
    "Prior to deep learning and often usefull even now, features had to be extracted from images without a learning algorithm. Below we are going to create histograms of the colors found in the lesion."
   ]
  },
  {
   "cell_type": "markdown",
   "id": "9492de15",
   "metadata": {},
   "source": [
    "## Segmentation By Otsu Thresholding\n",
    "Otsu thresholding works by minimizing intra class variance. This means if we split the pixels by the threshold the variation in the background, and forground pixels should be the minimum possible. A simple means of improving this for noisy images is to add bluring before doing the threshold. Run the below code a number of times to see examples of the thresholding."
   ]
  },
  {
   "cell_type": "code",
   "execution_count": null,
   "id": "57281dd0",
   "metadata": {
    "scrolled": false
   },
   "outputs": [],
   "source": [
    "def otsu_threshold_segmenter(img, blur_size=None, process_size=512):\n",
    "    if process_size:\n",
    "        img = img.resize((process_size, process_size))\n",
    "    img = np.array(img).mean(axis=-1).astype(np.uint8)\n",
    "    if blur_size:\n",
    "        img = cv2.GaussianBlur(img, (blur_size, blur_size), 0)\n",
    "    return 255 - cv2.threshold(img, 0, 255 , cv2.THRESH_BINARY+cv2.THRESH_OTSU)[1]\n",
    "\n",
    "# Vascular lesion example\n",
    "display(Markdown('## Vascular Lesion'))\n",
    "vasc_path = data_df[(data_df.split == 'train') & (data_df.label == 'vascular_lesion')].sample(1).image_path.values[0]\n",
    "img = Image.open(vasc_path)\n",
    "display(img.resize((256, 256)))\n",
    "display(Image.fromarray(otsu_threshold_segmenter(img, blur_size=5)).resize((256, 256)))\n",
    "\n",
    "# Nevus Example\n",
    "display(Markdown('## Nevus Lesion'))\n",
    "nevi_path = data_df[(data_df.split == 'train') & (data_df.label == 'nevus')].sample(1).image_path.values[0]\n",
    "img = Image.open(nevi_path)\n",
    "display(img.resize((256, 256)))\n",
    "display(Image.fromarray(otsu_threshold_segmenter(img, blur_size=5)).resize((256, 256)))"
   ]
  },
  {
   "cell_type": "markdown",
   "id": "ba7dea8b",
   "metadata": {},
   "source": [
    "## Get color histograms of lesions\n",
    "As you likely noticed during the labeling task, vascular lesions tend to be red-er then nevi which tend to be more brown. This is because vascular lesions involve blood vessels whereas nevi consist of melanocytes. The code below defines a function which counts the number of pixels within color ranges, to form a color histogram."
   ]
  },
  {
   "cell_type": "code",
   "execution_count": null,
   "id": "4d28c293",
   "metadata": {
    "scrolled": false
   },
   "outputs": [],
   "source": [
    "def get_color_histogram(img, mask=None, bins_per_channel=10):\n",
    "    if mask is None:\n",
    "        pixels_of_intrest = img.reshape(-1, 3)\n",
    "    else:\n",
    "        pixels_of_intrest = img[mask.astype(np.bool8)]\n",
    "    histograms = np.concatenate([np.histogram(pixels_of_intrest[:, i], bins=bins_per_channel, range=(0, 255))[0] for i in range(3)])\n",
    "    histograms = histograms.astype(np.float64) / float(histograms.max())\n",
    "    return histograms\n",
    "\n",
    "# Vascular lesion example\n",
    "display(Markdown('## Vascular Lesion'))\n",
    "vasc_path = data_df[(data_df.split == 'train') & (data_df.label == 'vascular_lesion')].sample(1).image_path.values[0]\n",
    "img = Image.open(vasc_path)\n",
    "img_resized = np.array(img.resize((256, 256)))\n",
    "seg_resized = np.array(Image.fromarray(otsu_threshold_segmenter(img, blur_size=5)).resize((256, 256)))\n",
    "histogram = get_color_histogram(img_resized, seg_resized)\n",
    "edges = np.linspace(0, 255, 10)\n",
    "display(img.resize((256, 256)))\n",
    "plt.figure(figsize=(4, 4))\n",
    "plt.bar(edges, histogram[0:10])\n",
    "plt.title('Red')\n",
    "plt.show()\n",
    "plt.figure(figsize=(4, 4))\n",
    "plt.bar(edges, histogram[10:20])\n",
    "plt.title('Green')\n",
    "plt.show()\n",
    "plt.figure(figsize=(4, 4))\n",
    "plt.bar(edges, histogram[20:30])\n",
    "plt.title('Blue')\n",
    "plt.show()\n",
    "\n",
    "# Nevus Example\n",
    "display(Markdown('## Nevus Lesion'))\n",
    "nevi_path = data_df[(data_df.split == 'train') & (data_df.label == 'nevus')].sample(1).image_path.values[0]\n",
    "img = Image.open(nevi_path)\n",
    "img_resized = np.array(img.resize((256, 256)))\n",
    "seg_resized = np.array(Image.fromarray(otsu_threshold_segmenter(img, blur_size=5)).resize((256, 256)))\n",
    "histogram = get_color_histogram(img_resized, seg_resized)\n",
    "display(img.resize((256, 256)))\n",
    "edges = np.linspace(0, 255, 10)\n",
    "plt.figure(figsize=(4, 4))\n",
    "plt.bar(edges, histogram[0:10])\n",
    "plt.title('Red')\n",
    "plt.show()\n",
    "plt.figure(figsize=(4, 4))\n",
    "plt.bar(edges, histogram[10:20])\n",
    "plt.title('Green')\n",
    "plt.show()\n",
    "plt.figure(figsize=(4, 4))\n",
    "plt.bar(edges, histogram[20:30])\n",
    "plt.title('Blue')\n",
    "plt.show()"
   ]
  },
  {
   "cell_type": "markdown",
   "id": "8172b308",
   "metadata": {},
   "source": [
    "# Train Traditional Classifier\n",
    "The code below trains an svm on the histograms. The first block adds the color features to the data dataframe while the second actually trains it."
   ]
  },
  {
   "cell_type": "code",
   "execution_count": null,
   "id": "2ea59012",
   "metadata": {},
   "outputs": [],
   "source": [
    "features = []\n",
    "for i, row in data_df.iterrows():\n",
    "    img = Image.open(row.image_path)\n",
    "    img_resized = np.array(img.resize((256, 256)))\n",
    "    seg_resized = np.array(Image.fromarray(otsu_threshold_segmenter(img, blur_size=5)).resize((256, 256)))\n",
    "    features.append(get_color_histogram(img_resized, seg_resized))\n",
    "data_df['color_feature'] = features"
   ]
  },
  {
   "cell_type": "code",
   "execution_count": null,
   "id": "acbafd09",
   "metadata": {},
   "outputs": [],
   "source": [
    "x = list(data_df[data_df.split == 'train'].color_feature.values)\n",
    "y = data_df[data_df.split == 'train'].label.values\n",
    "\n",
    "val_x = list(data_df[data_df.split == 'valid'].color_feature.values)\n",
    "val_y = data_df[data_df.split == 'valid'].label.values\n",
    "\n",
    "test_x = list(data_df[data_df.split == 'test'].color_feature.values)\n",
    "test_y = data_df[data_df.split == 'test'].label.values\n",
    "\n",
    "model = SVC(kernel='linear').fit(x, y)\n",
    "print('train_acc:', model.score(x, y))\n",
    "print('valid_acc:', model.score(val_x, val_y))\n",
    "print('test_acc:', model.score(test_x, test_y))"
   ]
  },
  {
   "cell_type": "markdown",
   "id": "0c862a22",
   "metadata": {},
   "source": [
    "# ImageNet Pretrained Model As Feature Generator\n",
    "The below code is a simplified example of using a deep net. A model pretrained to classify imagenet classes is used to generate features which are then used to train an svm as was done fore the handcrafted features."
   ]
  },
  {
   "cell_type": "code",
   "execution_count": null,
   "id": "58a8a904",
   "metadata": {},
   "outputs": [],
   "source": [
    "feature_model = torchvision.models.resnet18(pretrained=True)\n",
    "feature_model.fc = nn.Identity()\n",
    "for param in feature_model.parameters():\n",
    "    param.requires_grad = False\n",
    "\n",
    "normalize = transforms.Normalize(mean=[0.485, 0.456, 0.406],\n",
    "                                 std=[0.229, 0.224, 0.225])\n",
    "\n",
    "preprocessing = transforms.Compose([\n",
    "    transforms.Resize(256),\n",
    "    transforms.CenterCrop(224),\n",
    "    transforms.ToTensor(),\n",
    "    normalize,\n",
    "])"
   ]
  },
  {
   "cell_type": "code",
   "execution_count": null,
   "id": "ea2a50c0",
   "metadata": {},
   "outputs": [],
   "source": [
    "features = []\n",
    "for i, row in data_df.iterrows():\n",
    "    img = Image.open(row.image_path)\n",
    "    x = preprocessing(img).unsqueeze(0)\n",
    "    features.append(np.array(feature_model(x)[0]))\n",
    "data_df['deep_feature'] = features"
   ]
  },
  {
   "cell_type": "code",
   "execution_count": null,
   "id": "5704d07e",
   "metadata": {},
   "outputs": [],
   "source": [
    "x = list(data_df[data_df.split == 'train'].deep_feature.values)\n",
    "y = data_df[data_df.split == 'train'].label.values\n",
    "\n",
    "val_x = list(data_df[data_df.split == 'valid'].deep_feature.values)\n",
    "val_y = data_df[data_df.split == 'valid'].label.values\n",
    "\n",
    "test_x = list(data_df[data_df.split == 'test'].deep_feature.values)\n",
    "test_y = data_df[data_df.split == 'test'].label.values\n",
    "\n",
    "model = SVC(kernel='linear').fit(x, y)\n",
    "print('train_acc:', model.score(x, y))\n",
    "print('valid_acc:', model.score(val_x, val_y))\n",
    "print('test_acc:', model.score(test_x, test_y))"
   ]
  },
  {
   "cell_type": "code",
   "execution_count": null,
   "id": "eeeb7622",
   "metadata": {},
   "outputs": [],
   "source": []
  }
 ],
 "metadata": {
  "kernelspec": {
   "display_name": "Python 3 (ipykernel)",
   "language": "python",
   "name": "python3"
  },
  "language_info": {
   "codemirror_mode": {
    "name": "ipython",
    "version": 3
   },
   "file_extension": ".py",
   "mimetype": "text/x-python",
   "name": "python",
   "nbconvert_exporter": "python",
   "pygments_lexer": "ipython3",
   "version": "3.8.10"
  }
 },
 "nbformat": 4,
 "nbformat_minor": 5
}
